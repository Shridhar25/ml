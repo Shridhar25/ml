{
  "cells": [
    {
      "cell_type": "code",
      "source": [
        "import numpy as np\n",
        "import matplotlib.pyplot as plt"
      ],
      "metadata": {
        "id": "_6sOr_e4QJDY"
      },
      "execution_count": 19,
      "outputs": []
    },
    {
      "cell_type": "code",
      "source": [
        "def gaussian_rbf(x, landmark, gamma=1):\n",
        "    return np.exp(-gamma * np.linalg.norm(x - landmark)**2)"
      ],
      "metadata": {
        "id": "ZoAjKUeBQGSY"
      },
      "execution_count": 20,
      "outputs": []
    },
    {
      "cell_type": "code",
      "source": [
        "def radial_basis_function(X1, X2, ys, mu1, mu2):\n",
        "    from_1 = [gaussian_rbf(i, mu1) for i in zip(X1, X2)]\n",
        "    from_2 = [gaussian_rbf(i, mu2) for i in zip(X1, X2)]\n",
        "\n",
        "    A = []\n",
        "\n",
        "    for i, j in zip(from_1, from_2):\n",
        "        temp = []\n",
        "        temp.append(i)\n",
        "        temp.append(j)\n",
        "        temp.append(1)\n",
        "        A.append(temp)\n",
        "    \n",
        "    A = np.array(A)\n",
        "    W = np.linalg.inv(A.T.dot(A)).dot(A.T).dot(ys)\n",
        "    print(np.round(A.dot(W)))\n",
        "    print(ys)\n",
        "    print(f\"Weights: {W}\")\n",
        "    return W"
      ],
      "metadata": {
        "id": "xpnvWw7uP3QY"
      },
      "execution_count": 21,
      "outputs": []
    },
    {
      "cell_type": "code",
      "source": [
        "def predict_matrix(point, weights):\n",
        "    gaussian_rbf_0 = gaussian_rbf(np.array(point), mu1)\n",
        "    gaussian_rbf_1 = gaussian_rbf(np.array(point), mu2)\n",
        "    A = np.array([gaussian_rbf_0, gaussian_rbf_1, 1])\n",
        "    return np.round(A.dot(weights))"
      ],
      "metadata": {
        "id": "7H0Mpq02P3G7"
      },
      "execution_count": 22,
      "outputs": []
    },
    {
      "cell_type": "code",
      "execution_count": 23,
      "metadata": {
        "id": "OcPAsn0QKxJE",
        "colab": {
          "base_uri": "https://localhost:8080/"
        },
        "outputId": "a52c8fae-3fe7-4683-ff0d-3e1c7e3fa9f8"
      },
      "outputs": [
        {
          "output_type": "stream",
          "name": "stdout",
          "text": [
            "[0. 1. 1. 0.]\n",
            "[0 1 1 0]\n",
            "Weights: [ 2.5026503   2.5026503  -1.84134719]\n",
            "\n",
            "\n",
            "\n",
            "Input:[0 0], Predicted: 0.0\n",
            "Input:[0 1], Predicted: 1.0\n",
            "Input:[1 0], Predicted: 1.0\n",
            "Input:[1 1], Predicted: 0.0\n"
          ]
        }
      ],
      "source": [
        "# points\n",
        "x1 = np.array([0, 0, 1, 1])\n",
        "x2 = np.array([0, 1, 0, 1])\n",
        "ys = np.array([0, 1, 1, 0])\n",
        "\n",
        "# centers\n",
        "mu1 = np.array([0, 1])\n",
        "mu2 = np.array([1, 0])\n",
        "\n",
        "w = radial_basis_function(x1, x2, ys, mu1, mu2)\n",
        "\n",
        "# testing\n",
        "print(\"\\n\\n\")\n",
        "print(f\"Input:{np.array([0, 0])}, Predicted: {predict_matrix(np.array([0, 0]), w)}\")\n",
        "print(f\"Input:{np.array([0, 1])}, Predicted: {predict_matrix(np.array([0, 1]), w)}\")\n",
        "print(f\"Input:{np.array([1, 0])}, Predicted: {predict_matrix(np.array([1, 0]), w)}\")\n",
        "print(f\"Input:{np.array([1, 1])}, Predicted: {predict_matrix(np.array([1, 1]), w)}\")"
      ]
    }
  ],
  "metadata": {
    "kernelspec": {
      "display_name": "Python 3",
      "language": "python",
      "name": "python3"
    },
    "language_info": {
      "codemirror_mode": {
        "name": "ipython",
        "version": 3
      },
      "file_extension": ".py",
      "mimetype": "text/x-python",
      "name": "python",
      "nbconvert_exporter": "python",
      "pygments_lexer": "ipython3",
      "version": "3.8.3"
    },
    "colab": {
      "provenance": [],
      "collapsed_sections": []
    }
  },
  "nbformat": 4,
  "nbformat_minor": 0
}