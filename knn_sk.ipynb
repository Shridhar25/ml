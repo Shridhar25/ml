{
  "nbformat": 4,
  "nbformat_minor": 0,
  "metadata": {
    "colab": {
      "provenance": [],
      "collapsed_sections": []
    },
    "kernelspec": {
      "name": "python3",
      "display_name": "Python 3"
    },
    "language_info": {
      "name": "python"
    }
  },
  "cells": [
    {
      "cell_type": "code",
      "execution_count": null,
      "metadata": {
        "id": "h8tiBFgdIPxx"
      },
      "outputs": [],
      "source": [
        "from sklearn import datasets\n",
        "from sklearn.model_selection import train_test_split\n",
        "\n",
        "iris = datasets.load_iris()\n",
        "data, labels = iris.data, iris.target\n",
        "\n",
        "res = train_test_split(data, labels, \n",
        "                       train_size=0.8,\n",
        "                       test_size=0.2,\n",
        "                       random_state=12)\n",
        "train_data, test_data, train_labels, test_labels = res "
      ]
    },
    {
      "cell_type": "code",
      "source": [
        "from sklearn.neighbors import KNeighborsClassifier\n",
        "# classifier \"out of the box\", no parameters\n",
        "knn = KNeighborsClassifier()\n",
        "knn.fit(train_data, train_labels) \n",
        "\n",
        "\n",
        "print(\"Predictions from the classifier:\")\n",
        "test_data_predicted = knn.predict(test_data)\n",
        "print(test_data_predicted)\n",
        "print(\"Target values:\")\n",
        "print(test_labels)"
      ],
      "metadata": {
        "id": "pZ3Wdt0oIkp-"
      },
      "execution_count": null,
      "outputs": []
    },
    {
      "cell_type": "code",
      "source": [
        "print(accuracy_score(test_data_predicted, test_labels))"
      ],
      "metadata": {
        "id": "RcRMIDYKIuCw"
      },
      "execution_count": null,
      "outputs": []
    },
    {
      "cell_type": "code",
      "source": [
        "knn2 = KNeighborsClassifier(algorithm='auto', \n",
        "                            leaf_size=30, \n",
        "                            metric='minkowski',\n",
        "                            p=2,         # p=2 is equivalent to euclidian distance\n",
        "                            metric_params=None, \n",
        "                            n_jobs=1, \n",
        "                            n_neighbors=5, \n",
        "                            weights='uniform')\n",
        "\n",
        "knn.fit(train_data, train_labels) \n",
        "test_data_predicted = knn.predict(test_data)\n",
        "accuracy_score(test_data_predicted, test_labels)"
      ],
      "metadata": {
        "id": "Ar6h2gnoI30C"
      },
      "execution_count": null,
      "outputs": []
    }
  ]
}