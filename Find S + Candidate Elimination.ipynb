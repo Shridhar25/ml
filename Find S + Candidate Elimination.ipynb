{
  "cells": [
    {
      "cell_type": "markdown",
      "source": [
        "**FIND S**"
      ],
      "metadata": {
        "id": "Fa5Lp6PcNdrT"
      }
    },
    {
      "cell_type": "code",
      "source": [
        "import csv\n",
        "a = []\n",
        "with open('enjoy_sports.csv', 'r') as csvfile:   \n",
        "    next(csvfile)\n",
        "    for row in csv.reader(csvfile):\n",
        "        a.append(row)\n",
        "    print(a)\n",
        "\n",
        "num_attribute = len(a[0])-1"
      ],
      "metadata": {
        "colab": {
          "base_uri": "https://localhost:8080/"
        },
        "id": "uV0Grk_bNjyW",
        "outputId": "c89411a7-713b-41b7-ae2c-f78ef445df2b"
      },
      "execution_count": 1,
      "outputs": [
        {
          "output_type": "stream",
          "name": "stdout",
          "text": [
            "[['sunny', 'warm', 'normal', 'strong', 'warm', 'same', 'yes'], ['sunny', 'warm', 'high', 'strong', 'warm', 'same', 'yes'], ['rainy', 'cold', 'high', 'strong', 'warm', 'change', 'no'], ['sunny', 'warm', 'high', 'strong', 'cool', 'change', 'yes']]\n"
          ]
        }
      ]
    },
    {
      "cell_type": "code",
      "source": [
        "print(\"Specific hypothesis is : \")\n",
        "hypothesis = ['0']*num_attribute\n",
        "print(hypothesis)\n",
        "\n",
        "\n",
        "for i in range(0, len(a)):\n",
        "    if a[i][num_attribute] == 'yes':\n",
        "        for j in range(0, num_attribute):\n",
        "            if hypothesis[j] == '0' or hypothesis[j] == a[i][j]:\n",
        "                hypothesis[j] = a[i][j]\n",
        "            else:\n",
        "                hypothesis[j] = '?'\n",
        "        print(\"Hypothesis for\", i+1, \"is: \" , hypothesis)\n",
        "\n",
        "    if a[i][num_attribute] == 'no':\n",
        "        print(\"Hypothesis for\", i+1, \"is: \" , hypothesis)\n",
        "\n",
        "print(\"\\nGeneral Hypothesis: \", hypothesis)"
      ],
      "metadata": {
        "colab": {
          "base_uri": "https://localhost:8080/"
        },
        "id": "3U7ez_rbNmfW",
        "outputId": "43e0bc20-c9fc-4272-95ee-d10b82a1a18a"
      },
      "execution_count": 2,
      "outputs": [
        {
          "output_type": "stream",
          "name": "stdout",
          "text": [
            "Specific hypothesis is : \n",
            "['0', '0', '0', '0', '0', '0']\n",
            "Hypothesis for 1 is:  ['sunny', 'warm', 'normal', 'strong', 'warm', 'same']\n",
            "Hypothesis for 2 is:  ['sunny', 'warm', '?', 'strong', 'warm', 'same']\n",
            "Hypothesis for 3 is:  ['sunny', 'warm', '?', 'strong', 'warm', 'same']\n",
            "Hypothesis for 4 is:  ['sunny', 'warm', '?', 'strong', '?', '?']\n",
            "\n",
            "General Hypothesis:  ['sunny', 'warm', '?', 'strong', '?', '?']\n"
          ]
        }
      ]
    },
    {
      "cell_type": "markdown",
      "source": [
        "**Candidate Elimination**"
      ],
      "metadata": {
        "id": "UDtEP7lTNmwA"
      }
    },
    {
      "cell_type": "code",
      "execution_count": 3,
      "metadata": {
        "colab": {
          "base_uri": "https://localhost:8080/"
        },
        "id": "ssPZRCJ0NcGi",
        "outputId": "976f9f8e-0ad6-45d8-ae37-e61a2a1c4ccb"
      },
      "outputs": [
        {
          "output_type": "stream",
          "name": "stdout",
          "text": [
            "\n",
            "Target Values are:  ['yes' 'yes' 'no' 'yes']\n"
          ]
        }
      ],
      "source": [
        "import numpy as np \n",
        "import pandas as pd\n",
        "\n",
        "data = pd.read_csv('enjoy_sports.csv')\n",
        "concepts = np.array(data.iloc[:,:-1])\n",
        "target = np.array(data.iloc[:,-1])\n",
        "print(\"\\nTarget Values are: \",target)"
      ]
    },
    {
      "cell_type": "code",
      "execution_count": 4,
      "metadata": {
        "id": "2fU0uV01NcGm"
      },
      "outputs": [],
      "source": [
        "def candidateElimination(concepts, target):\n",
        "    specific_h = concepts[0].copy()\n",
        "    print(\"Initialization of specific hypothesis and general hypothesis\")\n",
        "    print(\"Specific Boundary: \", specific_h)\n",
        "    general_h = [[\"?\" for i in range(len(specific_h))] for i in range(len(specific_h))]\n",
        "    print(\"Generic Boundary: \",general_h)  \n",
        "    print(\"\\n\")\n",
        "    \n",
        "    for i, val in enumerate(concepts):\n",
        "        print(\"Instance\", i+1 , \"is: \", val)\n",
        "        #positive example\n",
        "        if target[i] == \"yes\":\n",
        "            for x in range(len(specific_h)): \n",
        "                if val[x]!= specific_h[x]:                    \n",
        "                    specific_h[x] ='?'                     \n",
        "                    general_h[x][x] ='?'\n",
        "        #negative example           \n",
        "        if target[i] == \"no\":            \n",
        "            \n",
        "            for x in range(len(specific_h)): \n",
        "                if val[x]!= specific_h[x]:                    \n",
        "                    general_h[x][x] = specific_h[x]                              \n",
        "                else:                    \n",
        "                    general_h[x][x] = '?'        \n",
        "\n",
        "    indices = [i for i, val in enumerate(general_h) if val == ['?', '?', '?', '?', '?', '?']]    \n",
        "    \n",
        "    for i in indices:   \n",
        "        general_h.remove(['?', '?', '?', '?', '?', '?']) \n",
        "    \n",
        "    return specific_h, general_h "
      ]
    },
    {
      "cell_type": "code",
      "execution_count": 5,
      "metadata": {
        "colab": {
          "base_uri": "https://localhost:8080/"
        },
        "id": "UL3JT3fHNcGn",
        "outputId": "f61ae4b9-e5d7-4871-ca54-394bd406bfc9"
      },
      "outputs": [
        {
          "output_type": "stream",
          "name": "stdout",
          "text": [
            "Initialization of specific hypothesis and general hypothesis\n",
            "Specific Boundary:  ['sunny' 'warm' 'normal' 'strong' 'warm' 'same']\n",
            "Generic Boundary:  [['?', '?', '?', '?', '?', '?'], ['?', '?', '?', '?', '?', '?'], ['?', '?', '?', '?', '?', '?'], ['?', '?', '?', '?', '?', '?'], ['?', '?', '?', '?', '?', '?'], ['?', '?', '?', '?', '?', '?']]\n",
            "\n",
            "\n",
            "Instance 1 is:  ['sunny' 'warm' 'normal' 'strong' 'warm' 'same']\n",
            "Instance 2 is:  ['sunny' 'warm' 'high' 'strong' 'warm' 'same']\n",
            "Instance 3 is:  ['rainy' 'cold' 'high' 'strong' 'warm' 'change']\n",
            "Instance 4 is:  ['sunny' 'warm' 'high' 'strong' 'cool' 'change']\n",
            "\n",
            "Final Specific Hypothesis:  ['sunny' 'warm' '?' 'strong' '?' '?']\n",
            "Final General Hypothesis:  [['sunny', '?', '?', '?', '?', '?'], ['?', 'warm', '?', '?', '?', '?']]\n"
          ]
        }
      ],
      "source": [
        "# Driver Code\n",
        "s_final, g_final = candidateElimination(concepts, target)\n",
        "print(\"\\nFinal Specific Hypothesis: \", s_final)\n",
        "print(\"Final General Hypothesis: \", g_final)"
      ]
    },
    {
      "cell_type": "code",
      "execution_count": 5,
      "metadata": {
        "id": "lEjjI1e3NcGo"
      },
      "outputs": [],
      "source": []
    }
  ],
  "metadata": {
    "kernelspec": {
      "display_name": "Python 3",
      "language": "python",
      "name": "python3"
    },
    "language_info": {
      "codemirror_mode": {
        "name": "ipython",
        "version": 3
      },
      "file_extension": ".py",
      "mimetype": "text/x-python",
      "name": "python",
      "nbconvert_exporter": "python",
      "pygments_lexer": "ipython3",
      "version": "3.8.5"
    },
    "colab": {
      "provenance": [],
      "collapsed_sections": []
    }
  },
  "nbformat": 4,
  "nbformat_minor": 0
}